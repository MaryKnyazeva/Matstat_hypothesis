{
  "nbformat": 4,
  "nbformat_minor": 0,
  "metadata": {
    "colab": {
      "provenance": []
    },
    "kernelspec": {
      "name": "python3",
      "display_name": "Python 3"
    },
    "language_info": {
      "name": "python"
    }
  },
  "cells": [
    {
      "cell_type": "code",
      "source": [
        "import numpy as np\n",
        "import pandas as pd\n",
        "import scipy.stats as sts\n",
        "import seaborn as sns\n",
        "import matplotlib.pyplot as plt"
      ],
      "metadata": {
        "id": "BdUmpSrn3QCO"
      },
      "execution_count": 1,
      "outputs": []
    },
    {
      "cell_type": "markdown",
      "source": [
        "## Основная идея"
      ],
      "metadata": {
        "id": "3PgPa6qKa1xT"
      }
    },
    {
      "cell_type": "markdown",
      "source": [
        "Достаточно много российских реперов употребляют в своих треках ненормативную лексику. Чаще всего это делается с целью привлечения слушателей. Молодёж любит агрессивный репчик, поэтому матерные песни они будут слушать снова и снова, увеличивая количество прослушиваний и загоняя трек в топ чарты.\n",
        "\n",
        "Проверим, действительно ли бранные слова помогают демке залететь в топ чарты (иными словами, если песня матерная, больше ли у нее шансов стать хитом?)\n",
        "\n",
        "Летс чек ит:"
      ],
      "metadata": {
        "id": "XOovZC2VZhxR"
      }
    },
    {
      "cell_type": "markdown",
      "source": [
        "## Сбор данных"
      ],
      "metadata": {
        "id": "yElawDFmasxh"
      }
    },
    {
      "cell_type": "markdown",
      "source": [
        "Для проверки гипотез будем использовать датасет с сайта Kaggle: https://www.kaggle.com/datasets/timursharifullindata/russian-rap-2017-2022-dataset  \n",
        "\n",
        "Предварительно уберём все ненужные признаки:"
      ],
      "metadata": {
        "id": "lDMGIx2yfOwE"
      }
    },
    {
      "cell_type": "code",
      "execution_count": 2,
      "metadata": {
        "colab": {
          "base_uri": "https://localhost:8080/",
          "height": 342
        },
        "id": "AO7dL0PK2vnB",
        "outputId": "f7dc3ced-3681-49d8-c8fc-9ec3dad336d4"
      },
      "outputs": [
        {
          "output_type": "execute_result",
          "data": {
            "text/plain": [
              "                 track_id artist_name Song_Success album_release_date  hit_n  \\\n",
              "0  5OFMeePbu2eEX1Hyf2tzYj    044 ROSE          hit         2017-06-23      0   \n",
              "1  29kkmN00FdzizRg5xrVmBF    044 ROSE         none         2017-12-08      1   \n",
              "2  7L1tQKY6mcy0sGXntrABgW    044 ROSE         none         2018-02-13      1   \n",
              "3  4jwDiUBqLQCCuyWkbX87qN    044 ROSE         none         2018-02-13      1   \n",
              "4  2DYUk5AkUV7kPTvd58LVCw    044 ROSE         none         2018-02-13      1   \n",
              "\n",
              "   Drums_Energy  Drums_Complexity  Variety_of_musical_instruments  \\\n",
              "0      1.748407          0.531356                        0.677570   \n",
              "1      0.714910          1.291384                        0.735496   \n",
              "2      0.778734          0.574680                        0.950734   \n",
              "3      1.291229          0.561352                        0.688906   \n",
              "4      0.900054          0.551893                        0.600117   \n",
              "\n",
              "   Mixing_Quality  Harmonic_Richness  ...  track_number  explicit  key_name  \\\n",
              "0        0.595927           1.209290  ...             1      True        G#   \n",
              "1        0.669723           0.673321  ...             1      True         C   \n",
              "2        0.516571           0.672520  ...             1      True         B   \n",
              "3        0.514869           1.160833  ...             2      True        G#   \n",
              "4        0.786980           0.530228  ...             3      True         B   \n",
              "\n",
              "   mode_name  key_mode          artists_all    remake               artist_id  \\\n",
              "0      major  G# major  LIL MORTY; 044 ROSE  original  2V8aJ7qCArKAmHAX7u81Sj   \n",
              "1      major   C major       ВАЙС; 044 ROSE  original  2V8aJ7qCArKAmHAX7u81Sj   \n",
              "2      major   B major             044 ROSE  original  2T1bAXQppVRoSNm63zcvzI   \n",
              "3      major  G# major  044 ROSE; LIL MORTY  original  2V8aJ7qCArKAmHAX7u81Sj   \n",
              "4      minor   B minor             044 ROSE  original  2T1bAXQppVRoSNm63zcvzI   \n",
              "\n",
              "                 album_id                                      download_link  \n",
              "0  4lsz5FpE3SFVuniECODcNN  https://p.scdn.co/mp3-preview/c37091967a02a815...  \n",
              "1  6jnftxbUPDmmpOgt9gdvFb  https://p.scdn.co/mp3-preview/04d4f628d8305b88...  \n",
              "2  2Ib1KBcvNVWMHl5txJgk5l  https://p.scdn.co/mp3-preview/a257eed4179821af...  \n",
              "3  2Ib1KBcvNVWMHl5txJgk5l  https://p.scdn.co/mp3-preview/91fedfb65d95d8bd...  \n",
              "4  2Ib1KBcvNVWMHl5txJgk5l  https://p.scdn.co/mp3-preview/e312514b3efa7d10...  \n",
              "\n",
              "[5 rows x 28 columns]"
            ],
            "text/html": [
              "\n",
              "  <div id=\"df-63c645eb-90e3-4019-9220-e41167a0e042\" class=\"colab-df-container\">\n",
              "    <div>\n",
              "<style scoped>\n",
              "    .dataframe tbody tr th:only-of-type {\n",
              "        vertical-align: middle;\n",
              "    }\n",
              "\n",
              "    .dataframe tbody tr th {\n",
              "        vertical-align: top;\n",
              "    }\n",
              "\n",
              "    .dataframe thead th {\n",
              "        text-align: right;\n",
              "    }\n",
              "</style>\n",
              "<table border=\"1\" class=\"dataframe\">\n",
              "  <thead>\n",
              "    <tr style=\"text-align: right;\">\n",
              "      <th></th>\n",
              "      <th>track_id</th>\n",
              "      <th>artist_name</th>\n",
              "      <th>Song_Success</th>\n",
              "      <th>album_release_date</th>\n",
              "      <th>hit_n</th>\n",
              "      <th>Drums_Energy</th>\n",
              "      <th>Drums_Complexity</th>\n",
              "      <th>Variety_of_musical_instruments</th>\n",
              "      <th>Mixing_Quality</th>\n",
              "      <th>Harmonic_Richness</th>\n",
              "      <th>...</th>\n",
              "      <th>track_number</th>\n",
              "      <th>explicit</th>\n",
              "      <th>key_name</th>\n",
              "      <th>mode_name</th>\n",
              "      <th>key_mode</th>\n",
              "      <th>artists_all</th>\n",
              "      <th>remake</th>\n",
              "      <th>artist_id</th>\n",
              "      <th>album_id</th>\n",
              "      <th>download_link</th>\n",
              "    </tr>\n",
              "  </thead>\n",
              "  <tbody>\n",
              "    <tr>\n",
              "      <th>0</th>\n",
              "      <td>5OFMeePbu2eEX1Hyf2tzYj</td>\n",
              "      <td>044 ROSE</td>\n",
              "      <td>hit</td>\n",
              "      <td>2017-06-23</td>\n",
              "      <td>0</td>\n",
              "      <td>1.748407</td>\n",
              "      <td>0.531356</td>\n",
              "      <td>0.677570</td>\n",
              "      <td>0.595927</td>\n",
              "      <td>1.209290</td>\n",
              "      <td>...</td>\n",
              "      <td>1</td>\n",
              "      <td>True</td>\n",
              "      <td>G#</td>\n",
              "      <td>major</td>\n",
              "      <td>G# major</td>\n",
              "      <td>LIL MORTY; 044 ROSE</td>\n",
              "      <td>original</td>\n",
              "      <td>2V8aJ7qCArKAmHAX7u81Sj</td>\n",
              "      <td>4lsz5FpE3SFVuniECODcNN</td>\n",
              "      <td>https://p.scdn.co/mp3-preview/c37091967a02a815...</td>\n",
              "    </tr>\n",
              "    <tr>\n",
              "      <th>1</th>\n",
              "      <td>29kkmN00FdzizRg5xrVmBF</td>\n",
              "      <td>044 ROSE</td>\n",
              "      <td>none</td>\n",
              "      <td>2017-12-08</td>\n",
              "      <td>1</td>\n",
              "      <td>0.714910</td>\n",
              "      <td>1.291384</td>\n",
              "      <td>0.735496</td>\n",
              "      <td>0.669723</td>\n",
              "      <td>0.673321</td>\n",
              "      <td>...</td>\n",
              "      <td>1</td>\n",
              "      <td>True</td>\n",
              "      <td>C</td>\n",
              "      <td>major</td>\n",
              "      <td>C major</td>\n",
              "      <td>ВАЙС; 044 ROSE</td>\n",
              "      <td>original</td>\n",
              "      <td>2V8aJ7qCArKAmHAX7u81Sj</td>\n",
              "      <td>6jnftxbUPDmmpOgt9gdvFb</td>\n",
              "      <td>https://p.scdn.co/mp3-preview/04d4f628d8305b88...</td>\n",
              "    </tr>\n",
              "    <tr>\n",
              "      <th>2</th>\n",
              "      <td>7L1tQKY6mcy0sGXntrABgW</td>\n",
              "      <td>044 ROSE</td>\n",
              "      <td>none</td>\n",
              "      <td>2018-02-13</td>\n",
              "      <td>1</td>\n",
              "      <td>0.778734</td>\n",
              "      <td>0.574680</td>\n",
              "      <td>0.950734</td>\n",
              "      <td>0.516571</td>\n",
              "      <td>0.672520</td>\n",
              "      <td>...</td>\n",
              "      <td>1</td>\n",
              "      <td>True</td>\n",
              "      <td>B</td>\n",
              "      <td>major</td>\n",
              "      <td>B major</td>\n",
              "      <td>044 ROSE</td>\n",
              "      <td>original</td>\n",
              "      <td>2T1bAXQppVRoSNm63zcvzI</td>\n",
              "      <td>2Ib1KBcvNVWMHl5txJgk5l</td>\n",
              "      <td>https://p.scdn.co/mp3-preview/a257eed4179821af...</td>\n",
              "    </tr>\n",
              "    <tr>\n",
              "      <th>3</th>\n",
              "      <td>4jwDiUBqLQCCuyWkbX87qN</td>\n",
              "      <td>044 ROSE</td>\n",
              "      <td>none</td>\n",
              "      <td>2018-02-13</td>\n",
              "      <td>1</td>\n",
              "      <td>1.291229</td>\n",
              "      <td>0.561352</td>\n",
              "      <td>0.688906</td>\n",
              "      <td>0.514869</td>\n",
              "      <td>1.160833</td>\n",
              "      <td>...</td>\n",
              "      <td>2</td>\n",
              "      <td>True</td>\n",
              "      <td>G#</td>\n",
              "      <td>major</td>\n",
              "      <td>G# major</td>\n",
              "      <td>044 ROSE; LIL MORTY</td>\n",
              "      <td>original</td>\n",
              "      <td>2V8aJ7qCArKAmHAX7u81Sj</td>\n",
              "      <td>2Ib1KBcvNVWMHl5txJgk5l</td>\n",
              "      <td>https://p.scdn.co/mp3-preview/91fedfb65d95d8bd...</td>\n",
              "    </tr>\n",
              "    <tr>\n",
              "      <th>4</th>\n",
              "      <td>2DYUk5AkUV7kPTvd58LVCw</td>\n",
              "      <td>044 ROSE</td>\n",
              "      <td>none</td>\n",
              "      <td>2018-02-13</td>\n",
              "      <td>1</td>\n",
              "      <td>0.900054</td>\n",
              "      <td>0.551893</td>\n",
              "      <td>0.600117</td>\n",
              "      <td>0.786980</td>\n",
              "      <td>0.530228</td>\n",
              "      <td>...</td>\n",
              "      <td>3</td>\n",
              "      <td>True</td>\n",
              "      <td>B</td>\n",
              "      <td>minor</td>\n",
              "      <td>B minor</td>\n",
              "      <td>044 ROSE</td>\n",
              "      <td>original</td>\n",
              "      <td>2T1bAXQppVRoSNm63zcvzI</td>\n",
              "      <td>2Ib1KBcvNVWMHl5txJgk5l</td>\n",
              "      <td>https://p.scdn.co/mp3-preview/e312514b3efa7d10...</td>\n",
              "    </tr>\n",
              "  </tbody>\n",
              "</table>\n",
              "<p>5 rows × 28 columns</p>\n",
              "</div>\n",
              "    <div class=\"colab-df-buttons\">\n",
              "\n",
              "  <div class=\"colab-df-container\">\n",
              "    <button class=\"colab-df-convert\" onclick=\"convertToInteractive('df-63c645eb-90e3-4019-9220-e41167a0e042')\"\n",
              "            title=\"Convert this dataframe to an interactive table.\"\n",
              "            style=\"display:none;\">\n",
              "\n",
              "  <svg xmlns=\"http://www.w3.org/2000/svg\" height=\"24px\" viewBox=\"0 -960 960 960\">\n",
              "    <path d=\"M120-120v-720h720v720H120Zm60-500h600v-160H180v160Zm220 220h160v-160H400v160Zm0 220h160v-160H400v160ZM180-400h160v-160H180v160Zm440 0h160v-160H620v160ZM180-180h160v-160H180v160Zm440 0h160v-160H620v160Z\"/>\n",
              "  </svg>\n",
              "    </button>\n",
              "\n",
              "  <style>\n",
              "    .colab-df-container {\n",
              "      display:flex;\n",
              "      gap: 12px;\n",
              "    }\n",
              "\n",
              "    .colab-df-convert {\n",
              "      background-color: #E8F0FE;\n",
              "      border: none;\n",
              "      border-radius: 50%;\n",
              "      cursor: pointer;\n",
              "      display: none;\n",
              "      fill: #1967D2;\n",
              "      height: 32px;\n",
              "      padding: 0 0 0 0;\n",
              "      width: 32px;\n",
              "    }\n",
              "\n",
              "    .colab-df-convert:hover {\n",
              "      background-color: #E2EBFA;\n",
              "      box-shadow: 0px 1px 2px rgba(60, 64, 67, 0.3), 0px 1px 3px 1px rgba(60, 64, 67, 0.15);\n",
              "      fill: #174EA6;\n",
              "    }\n",
              "\n",
              "    .colab-df-buttons div {\n",
              "      margin-bottom: 4px;\n",
              "    }\n",
              "\n",
              "    [theme=dark] .colab-df-convert {\n",
              "      background-color: #3B4455;\n",
              "      fill: #D2E3FC;\n",
              "    }\n",
              "\n",
              "    [theme=dark] .colab-df-convert:hover {\n",
              "      background-color: #434B5C;\n",
              "      box-shadow: 0px 1px 3px 1px rgba(0, 0, 0, 0.15);\n",
              "      filter: drop-shadow(0px 1px 2px rgba(0, 0, 0, 0.3));\n",
              "      fill: #FFFFFF;\n",
              "    }\n",
              "  </style>\n",
              "\n",
              "    <script>\n",
              "      const buttonEl =\n",
              "        document.querySelector('#df-63c645eb-90e3-4019-9220-e41167a0e042 button.colab-df-convert');\n",
              "      buttonEl.style.display =\n",
              "        google.colab.kernel.accessAllowed ? 'block' : 'none';\n",
              "\n",
              "      async function convertToInteractive(key) {\n",
              "        const element = document.querySelector('#df-63c645eb-90e3-4019-9220-e41167a0e042');\n",
              "        const dataTable =\n",
              "          await google.colab.kernel.invokeFunction('convertToInteractive',\n",
              "                                                    [key], {});\n",
              "        if (!dataTable) return;\n",
              "\n",
              "        const docLinkHtml = 'Like what you see? Visit the ' +\n",
              "          '<a target=\"_blank\" href=https://colab.research.google.com/notebooks/data_table.ipynb>data table notebook</a>'\n",
              "          + ' to learn more about interactive tables.';\n",
              "        element.innerHTML = '';\n",
              "        dataTable['output_type'] = 'display_data';\n",
              "        await google.colab.output.renderOutput(dataTable, element);\n",
              "        const docLink = document.createElement('div');\n",
              "        docLink.innerHTML = docLinkHtml;\n",
              "        element.appendChild(docLink);\n",
              "      }\n",
              "    </script>\n",
              "  </div>\n",
              "\n",
              "\n",
              "<div id=\"df-4a788a3e-0824-4990-8272-3dc4d56891ab\">\n",
              "  <button class=\"colab-df-quickchart\" onclick=\"quickchart('df-4a788a3e-0824-4990-8272-3dc4d56891ab')\"\n",
              "            title=\"Suggest charts\"\n",
              "            style=\"display:none;\">\n",
              "\n",
              "<svg xmlns=\"http://www.w3.org/2000/svg\" height=\"24px\"viewBox=\"0 0 24 24\"\n",
              "     width=\"24px\">\n",
              "    <g>\n",
              "        <path d=\"M19 3H5c-1.1 0-2 .9-2 2v14c0 1.1.9 2 2 2h14c1.1 0 2-.9 2-2V5c0-1.1-.9-2-2-2zM9 17H7v-7h2v7zm4 0h-2V7h2v10zm4 0h-2v-4h2v4z\"/>\n",
              "    </g>\n",
              "</svg>\n",
              "  </button>\n",
              "\n",
              "<style>\n",
              "  .colab-df-quickchart {\n",
              "      --bg-color: #E8F0FE;\n",
              "      --fill-color: #1967D2;\n",
              "      --hover-bg-color: #E2EBFA;\n",
              "      --hover-fill-color: #174EA6;\n",
              "      --disabled-fill-color: #AAA;\n",
              "      --disabled-bg-color: #DDD;\n",
              "  }\n",
              "\n",
              "  [theme=dark] .colab-df-quickchart {\n",
              "      --bg-color: #3B4455;\n",
              "      --fill-color: #D2E3FC;\n",
              "      --hover-bg-color: #434B5C;\n",
              "      --hover-fill-color: #FFFFFF;\n",
              "      --disabled-bg-color: #3B4455;\n",
              "      --disabled-fill-color: #666;\n",
              "  }\n",
              "\n",
              "  .colab-df-quickchart {\n",
              "    background-color: var(--bg-color);\n",
              "    border: none;\n",
              "    border-radius: 50%;\n",
              "    cursor: pointer;\n",
              "    display: none;\n",
              "    fill: var(--fill-color);\n",
              "    height: 32px;\n",
              "    padding: 0;\n",
              "    width: 32px;\n",
              "  }\n",
              "\n",
              "  .colab-df-quickchart:hover {\n",
              "    background-color: var(--hover-bg-color);\n",
              "    box-shadow: 0 1px 2px rgba(60, 64, 67, 0.3), 0 1px 3px 1px rgba(60, 64, 67, 0.15);\n",
              "    fill: var(--button-hover-fill-color);\n",
              "  }\n",
              "\n",
              "  .colab-df-quickchart-complete:disabled,\n",
              "  .colab-df-quickchart-complete:disabled:hover {\n",
              "    background-color: var(--disabled-bg-color);\n",
              "    fill: var(--disabled-fill-color);\n",
              "    box-shadow: none;\n",
              "  }\n",
              "\n",
              "  .colab-df-spinner {\n",
              "    border: 2px solid var(--fill-color);\n",
              "    border-color: transparent;\n",
              "    border-bottom-color: var(--fill-color);\n",
              "    animation:\n",
              "      spin 1s steps(1) infinite;\n",
              "  }\n",
              "\n",
              "  @keyframes spin {\n",
              "    0% {\n",
              "      border-color: transparent;\n",
              "      border-bottom-color: var(--fill-color);\n",
              "      border-left-color: var(--fill-color);\n",
              "    }\n",
              "    20% {\n",
              "      border-color: transparent;\n",
              "      border-left-color: var(--fill-color);\n",
              "      border-top-color: var(--fill-color);\n",
              "    }\n",
              "    30% {\n",
              "      border-color: transparent;\n",
              "      border-left-color: var(--fill-color);\n",
              "      border-top-color: var(--fill-color);\n",
              "      border-right-color: var(--fill-color);\n",
              "    }\n",
              "    40% {\n",
              "      border-color: transparent;\n",
              "      border-right-color: var(--fill-color);\n",
              "      border-top-color: var(--fill-color);\n",
              "    }\n",
              "    60% {\n",
              "      border-color: transparent;\n",
              "      border-right-color: var(--fill-color);\n",
              "    }\n",
              "    80% {\n",
              "      border-color: transparent;\n",
              "      border-right-color: var(--fill-color);\n",
              "      border-bottom-color: var(--fill-color);\n",
              "    }\n",
              "    90% {\n",
              "      border-color: transparent;\n",
              "      border-bottom-color: var(--fill-color);\n",
              "    }\n",
              "  }\n",
              "</style>\n",
              "\n",
              "  <script>\n",
              "    async function quickchart(key) {\n",
              "      const quickchartButtonEl =\n",
              "        document.querySelector('#' + key + ' button');\n",
              "      quickchartButtonEl.disabled = true;  // To prevent multiple clicks.\n",
              "      quickchartButtonEl.classList.add('colab-df-spinner');\n",
              "      try {\n",
              "        const charts = await google.colab.kernel.invokeFunction(\n",
              "            'suggestCharts', [key], {});\n",
              "      } catch (error) {\n",
              "        console.error('Error during call to suggestCharts:', error);\n",
              "      }\n",
              "      quickchartButtonEl.classList.remove('colab-df-spinner');\n",
              "      quickchartButtonEl.classList.add('colab-df-quickchart-complete');\n",
              "    }\n",
              "    (() => {\n",
              "      let quickchartButtonEl =\n",
              "        document.querySelector('#df-4a788a3e-0824-4990-8272-3dc4d56891ab button');\n",
              "      quickchartButtonEl.style.display =\n",
              "        google.colab.kernel.accessAllowed ? 'block' : 'none';\n",
              "    })();\n",
              "  </script>\n",
              "</div>\n",
              "    </div>\n",
              "  </div>\n"
            ],
            "application/vnd.google.colaboratory.intrinsic+json": {
              "type": "dataframe",
              "variable_name": "df"
            }
          },
          "metadata": {},
          "execution_count": 2
        }
      ],
      "source": [
        "df = pd.read_csv('/content/Five_years_of_Russian_Rap_Dataset.csv')\n",
        "df.head()"
      ]
    },
    {
      "cell_type": "markdown",
      "source": [
        "* **Song_Success - категориальный признак: успешность композиции (Таргет)**\n",
        "* explicit - содержит мат или нет\n"
      ],
      "metadata": {
        "id": "VF5PuRFE465b"
      }
    },
    {
      "cell_type": "markdown",
      "source": [
        "<center>\n",
        "<img src=\"https://sun9-66.userapi.com/impg/WsBhj12xalvGbDl_n-gbOEG625P0ktlW-Yy7aQ/BWGnGOB-Cfs.jpg?size=800x547&quality=96&sign=4a906f6e3416f2dd4c031856105377da&c_uniq_tag=7HTxLJ6Gat7iBKkAwLHGnq19wRzDkwZjUE0VjBPgP1U&type=album\" height=\"400\">\n",
        "\n",
        "</center>"
      ],
      "metadata": {
        "id": "DtgRjEaDZAnr"
      }
    },
    {
      "cell_type": "markdown",
      "source": [
        "Оставим только необходимые признаки:"
      ],
      "metadata": {
        "id": "ZpSVT6itXbWo"
      }
    },
    {
      "cell_type": "code",
      "source": [
        "df = df[['Song_Success', 'explicit']]\n",
        "df.head()"
      ],
      "metadata": {
        "colab": {
          "base_uri": "https://localhost:8080/",
          "height": 206
        },
        "id": "EyTOdk5DXh-f",
        "outputId": "16706605-fcbd-41a9-c83b-f3d7ebd4611c"
      },
      "execution_count": 3,
      "outputs": [
        {
          "output_type": "execute_result",
          "data": {
            "text/plain": [
              "  Song_Success  explicit\n",
              "0          hit      True\n",
              "1         none      True\n",
              "2         none      True\n",
              "3         none      True\n",
              "4         none      True"
            ],
            "text/html": [
              "\n",
              "  <div id=\"df-0796a035-983f-4ce8-bc5d-8da6aafd01cc\" class=\"colab-df-container\">\n",
              "    <div>\n",
              "<style scoped>\n",
              "    .dataframe tbody tr th:only-of-type {\n",
              "        vertical-align: middle;\n",
              "    }\n",
              "\n",
              "    .dataframe tbody tr th {\n",
              "        vertical-align: top;\n",
              "    }\n",
              "\n",
              "    .dataframe thead th {\n",
              "        text-align: right;\n",
              "    }\n",
              "</style>\n",
              "<table border=\"1\" class=\"dataframe\">\n",
              "  <thead>\n",
              "    <tr style=\"text-align: right;\">\n",
              "      <th></th>\n",
              "      <th>Song_Success</th>\n",
              "      <th>explicit</th>\n",
              "    </tr>\n",
              "  </thead>\n",
              "  <tbody>\n",
              "    <tr>\n",
              "      <th>0</th>\n",
              "      <td>hit</td>\n",
              "      <td>True</td>\n",
              "    </tr>\n",
              "    <tr>\n",
              "      <th>1</th>\n",
              "      <td>none</td>\n",
              "      <td>True</td>\n",
              "    </tr>\n",
              "    <tr>\n",
              "      <th>2</th>\n",
              "      <td>none</td>\n",
              "      <td>True</td>\n",
              "    </tr>\n",
              "    <tr>\n",
              "      <th>3</th>\n",
              "      <td>none</td>\n",
              "      <td>True</td>\n",
              "    </tr>\n",
              "    <tr>\n",
              "      <th>4</th>\n",
              "      <td>none</td>\n",
              "      <td>True</td>\n",
              "    </tr>\n",
              "  </tbody>\n",
              "</table>\n",
              "</div>\n",
              "    <div class=\"colab-df-buttons\">\n",
              "\n",
              "  <div class=\"colab-df-container\">\n",
              "    <button class=\"colab-df-convert\" onclick=\"convertToInteractive('df-0796a035-983f-4ce8-bc5d-8da6aafd01cc')\"\n",
              "            title=\"Convert this dataframe to an interactive table.\"\n",
              "            style=\"display:none;\">\n",
              "\n",
              "  <svg xmlns=\"http://www.w3.org/2000/svg\" height=\"24px\" viewBox=\"0 -960 960 960\">\n",
              "    <path d=\"M120-120v-720h720v720H120Zm60-500h600v-160H180v160Zm220 220h160v-160H400v160Zm0 220h160v-160H400v160ZM180-400h160v-160H180v160Zm440 0h160v-160H620v160ZM180-180h160v-160H180v160Zm440 0h160v-160H620v160Z\"/>\n",
              "  </svg>\n",
              "    </button>\n",
              "\n",
              "  <style>\n",
              "    .colab-df-container {\n",
              "      display:flex;\n",
              "      gap: 12px;\n",
              "    }\n",
              "\n",
              "    .colab-df-convert {\n",
              "      background-color: #E8F0FE;\n",
              "      border: none;\n",
              "      border-radius: 50%;\n",
              "      cursor: pointer;\n",
              "      display: none;\n",
              "      fill: #1967D2;\n",
              "      height: 32px;\n",
              "      padding: 0 0 0 0;\n",
              "      width: 32px;\n",
              "    }\n",
              "\n",
              "    .colab-df-convert:hover {\n",
              "      background-color: #E2EBFA;\n",
              "      box-shadow: 0px 1px 2px rgba(60, 64, 67, 0.3), 0px 1px 3px 1px rgba(60, 64, 67, 0.15);\n",
              "      fill: #174EA6;\n",
              "    }\n",
              "\n",
              "    .colab-df-buttons div {\n",
              "      margin-bottom: 4px;\n",
              "    }\n",
              "\n",
              "    [theme=dark] .colab-df-convert {\n",
              "      background-color: #3B4455;\n",
              "      fill: #D2E3FC;\n",
              "    }\n",
              "\n",
              "    [theme=dark] .colab-df-convert:hover {\n",
              "      background-color: #434B5C;\n",
              "      box-shadow: 0px 1px 3px 1px rgba(0, 0, 0, 0.15);\n",
              "      filter: drop-shadow(0px 1px 2px rgba(0, 0, 0, 0.3));\n",
              "      fill: #FFFFFF;\n",
              "    }\n",
              "  </style>\n",
              "\n",
              "    <script>\n",
              "      const buttonEl =\n",
              "        document.querySelector('#df-0796a035-983f-4ce8-bc5d-8da6aafd01cc button.colab-df-convert');\n",
              "      buttonEl.style.display =\n",
              "        google.colab.kernel.accessAllowed ? 'block' : 'none';\n",
              "\n",
              "      async function convertToInteractive(key) {\n",
              "        const element = document.querySelector('#df-0796a035-983f-4ce8-bc5d-8da6aafd01cc');\n",
              "        const dataTable =\n",
              "          await google.colab.kernel.invokeFunction('convertToInteractive',\n",
              "                                                    [key], {});\n",
              "        if (!dataTable) return;\n",
              "\n",
              "        const docLinkHtml = 'Like what you see? Visit the ' +\n",
              "          '<a target=\"_blank\" href=https://colab.research.google.com/notebooks/data_table.ipynb>data table notebook</a>'\n",
              "          + ' to learn more about interactive tables.';\n",
              "        element.innerHTML = '';\n",
              "        dataTable['output_type'] = 'display_data';\n",
              "        await google.colab.output.renderOutput(dataTable, element);\n",
              "        const docLink = document.createElement('div');\n",
              "        docLink.innerHTML = docLinkHtml;\n",
              "        element.appendChild(docLink);\n",
              "      }\n",
              "    </script>\n",
              "  </div>\n",
              "\n",
              "\n",
              "<div id=\"df-7d881118-cdae-4aa7-81e4-d276e9a89118\">\n",
              "  <button class=\"colab-df-quickchart\" onclick=\"quickchart('df-7d881118-cdae-4aa7-81e4-d276e9a89118')\"\n",
              "            title=\"Suggest charts\"\n",
              "            style=\"display:none;\">\n",
              "\n",
              "<svg xmlns=\"http://www.w3.org/2000/svg\" height=\"24px\"viewBox=\"0 0 24 24\"\n",
              "     width=\"24px\">\n",
              "    <g>\n",
              "        <path d=\"M19 3H5c-1.1 0-2 .9-2 2v14c0 1.1.9 2 2 2h14c1.1 0 2-.9 2-2V5c0-1.1-.9-2-2-2zM9 17H7v-7h2v7zm4 0h-2V7h2v10zm4 0h-2v-4h2v4z\"/>\n",
              "    </g>\n",
              "</svg>\n",
              "  </button>\n",
              "\n",
              "<style>\n",
              "  .colab-df-quickchart {\n",
              "      --bg-color: #E8F0FE;\n",
              "      --fill-color: #1967D2;\n",
              "      --hover-bg-color: #E2EBFA;\n",
              "      --hover-fill-color: #174EA6;\n",
              "      --disabled-fill-color: #AAA;\n",
              "      --disabled-bg-color: #DDD;\n",
              "  }\n",
              "\n",
              "  [theme=dark] .colab-df-quickchart {\n",
              "      --bg-color: #3B4455;\n",
              "      --fill-color: #D2E3FC;\n",
              "      --hover-bg-color: #434B5C;\n",
              "      --hover-fill-color: #FFFFFF;\n",
              "      --disabled-bg-color: #3B4455;\n",
              "      --disabled-fill-color: #666;\n",
              "  }\n",
              "\n",
              "  .colab-df-quickchart {\n",
              "    background-color: var(--bg-color);\n",
              "    border: none;\n",
              "    border-radius: 50%;\n",
              "    cursor: pointer;\n",
              "    display: none;\n",
              "    fill: var(--fill-color);\n",
              "    height: 32px;\n",
              "    padding: 0;\n",
              "    width: 32px;\n",
              "  }\n",
              "\n",
              "  .colab-df-quickchart:hover {\n",
              "    background-color: var(--hover-bg-color);\n",
              "    box-shadow: 0 1px 2px rgba(60, 64, 67, 0.3), 0 1px 3px 1px rgba(60, 64, 67, 0.15);\n",
              "    fill: var(--button-hover-fill-color);\n",
              "  }\n",
              "\n",
              "  .colab-df-quickchart-complete:disabled,\n",
              "  .colab-df-quickchart-complete:disabled:hover {\n",
              "    background-color: var(--disabled-bg-color);\n",
              "    fill: var(--disabled-fill-color);\n",
              "    box-shadow: none;\n",
              "  }\n",
              "\n",
              "  .colab-df-spinner {\n",
              "    border: 2px solid var(--fill-color);\n",
              "    border-color: transparent;\n",
              "    border-bottom-color: var(--fill-color);\n",
              "    animation:\n",
              "      spin 1s steps(1) infinite;\n",
              "  }\n",
              "\n",
              "  @keyframes spin {\n",
              "    0% {\n",
              "      border-color: transparent;\n",
              "      border-bottom-color: var(--fill-color);\n",
              "      border-left-color: var(--fill-color);\n",
              "    }\n",
              "    20% {\n",
              "      border-color: transparent;\n",
              "      border-left-color: var(--fill-color);\n",
              "      border-top-color: var(--fill-color);\n",
              "    }\n",
              "    30% {\n",
              "      border-color: transparent;\n",
              "      border-left-color: var(--fill-color);\n",
              "      border-top-color: var(--fill-color);\n",
              "      border-right-color: var(--fill-color);\n",
              "    }\n",
              "    40% {\n",
              "      border-color: transparent;\n",
              "      border-right-color: var(--fill-color);\n",
              "      border-top-color: var(--fill-color);\n",
              "    }\n",
              "    60% {\n",
              "      border-color: transparent;\n",
              "      border-right-color: var(--fill-color);\n",
              "    }\n",
              "    80% {\n",
              "      border-color: transparent;\n",
              "      border-right-color: var(--fill-color);\n",
              "      border-bottom-color: var(--fill-color);\n",
              "    }\n",
              "    90% {\n",
              "      border-color: transparent;\n",
              "      border-bottom-color: var(--fill-color);\n",
              "    }\n",
              "  }\n",
              "</style>\n",
              "\n",
              "  <script>\n",
              "    async function quickchart(key) {\n",
              "      const quickchartButtonEl =\n",
              "        document.querySelector('#' + key + ' button');\n",
              "      quickchartButtonEl.disabled = true;  // To prevent multiple clicks.\n",
              "      quickchartButtonEl.classList.add('colab-df-spinner');\n",
              "      try {\n",
              "        const charts = await google.colab.kernel.invokeFunction(\n",
              "            'suggestCharts', [key], {});\n",
              "      } catch (error) {\n",
              "        console.error('Error during call to suggestCharts:', error);\n",
              "      }\n",
              "      quickchartButtonEl.classList.remove('colab-df-spinner');\n",
              "      quickchartButtonEl.classList.add('colab-df-quickchart-complete');\n",
              "    }\n",
              "    (() => {\n",
              "      let quickchartButtonEl =\n",
              "        document.querySelector('#df-7d881118-cdae-4aa7-81e4-d276e9a89118 button');\n",
              "      quickchartButtonEl.style.display =\n",
              "        google.colab.kernel.accessAllowed ? 'block' : 'none';\n",
              "    })();\n",
              "  </script>\n",
              "</div>\n",
              "    </div>\n",
              "  </div>\n"
            ],
            "application/vnd.google.colaboratory.intrinsic+json": {
              "type": "dataframe",
              "variable_name": "df",
              "summary": "{\n  \"name\": \"df\",\n  \"rows\": 14397,\n  \"fields\": [\n    {\n      \"column\": \"Song_Success\",\n      \"properties\": {\n        \"dtype\": \"category\",\n        \"num_unique_values\": 2,\n        \"samples\": [\n          \"none\",\n          \"hit\"\n        ],\n        \"semantic_type\": \"\",\n        \"description\": \"\"\n      }\n    },\n    {\n      \"column\": \"explicit\",\n      \"properties\": {\n        \"dtype\": \"boolean\",\n        \"num_unique_values\": 2,\n        \"samples\": [\n          false,\n          true\n        ],\n        \"semantic_type\": \"\",\n        \"description\": \"\"\n      }\n    }\n  ]\n}"
            }
          },
          "metadata": {},
          "execution_count": 3
        }
      ]
    },
    {
      "cell_type": "markdown",
      "source": [
        "## Предобработка данных, расчёт долей:"
      ],
      "metadata": {
        "id": "AJ2fk-vo3muv"
      }
    },
    {
      "cell_type": "markdown",
      "source": [
        "Для начала посчитаем, сколько всего матерных и нематерных песен в нашем датасете"
      ],
      "metadata": {
        "id": "c6meZKHwYNeG"
      }
    },
    {
      "cell_type": "code",
      "source": [
        "n_explicit  = df[df['explicit'] == True].shape[0]\n",
        "n_non_explicit = df[df['explicit'] == False].shape[0]\n",
        "\n",
        "print(f'Количество матерных песен в датасете: {n_explicit}')\n",
        "print(f'Количество нематерных песен в датасете: {n_non_explicit}')"
      ],
      "metadata": {
        "colab": {
          "base_uri": "https://localhost:8080/"
        },
        "id": "SxGsHMpJ5Ufn",
        "outputId": "bd4b548d-1465-4d45-f41a-0c0b36670a98"
      },
      "execution_count": 4,
      "outputs": [
        {
          "output_type": "stream",
          "name": "stdout",
          "text": [
            "Количество матерных песен в датасете: 7794\n",
            "Количество нематерных песен в датасете: 6603\n"
          ]
        }
      ]
    },
    {
      "cell_type": "code",
      "source": [
        "# посчитаем количество матерных хитов и нематерных хитов\n",
        "hits_explicit = df[(df['explicit'] == True) & (df['Song_Success'] == 'hit')].shape[0]\n",
        "hits_non_explicit = df[(df['explicit'] == False) & (df['Song_Success'] == 'hit')].shape[0]\n",
        "\n",
        "hits_explicit, hits_non_explicit"
      ],
      "metadata": {
        "colab": {
          "base_uri": "https://localhost:8080/"
        },
        "id": "4tHZprXX9ILL",
        "outputId": "774b2a68-083b-44e7-a489-9835fac11347"
      },
      "execution_count": 5,
      "outputs": [
        {
          "output_type": "execute_result",
          "data": {
            "text/plain": [
              "(1643, 1020)"
            ]
          },
          "metadata": {},
          "execution_count": 5
        }
      ]
    },
    {
      "cell_type": "code",
      "source": [
        "# найдем доли песен ставших хитом среди матерных и нематерных произведений\n",
        "p_hits_explicit = hits_explicit / n_explicit\n",
        "p_hits_non_explicit = hits_non_explicit / n_non_explicit\n",
        "\n",
        "print(f'Доля хитов среди песен с ругательствами: {p_hits_explicit}')\n",
        "print(f'Доля хитов среди песен без ругательств: {p_hits_non_explicit}')"
      ],
      "metadata": {
        "colab": {
          "base_uri": "https://localhost:8080/"
        },
        "id": "kRgi-2op6FAO",
        "outputId": "d4815a07-7c4d-4083-c7df-d8c2baa94e0f"
      },
      "execution_count": 6,
      "outputs": [
        {
          "output_type": "stream",
          "name": "stdout",
          "text": [
            "Доля хитов среди песен с ругательствами: 0.21080318193482167\n",
            "Доля хитов среди песен без ругательств: 0.15447523852794184\n"
          ]
        }
      ]
    },
    {
      "cell_type": "markdown",
      "source": [
        "<center>\n",
        "<img src='https://avatars.dzeninfra.ru/get-zen_brief/6638195/pub_62947d12238f715c8b3d5421_62947d12238f715c8b3d5422/scale_1200' height=\"500\">\n",
        "</center>"
      ],
      "metadata": {
        "id": "eqLsD5l8cVOY"
      }
    },
    {
      "cell_type": "markdown",
      "source": [
        "Можно немного визуализации добавить:"
      ],
      "metadata": {
        "id": "uVcjz7HCRMm9"
      }
    },
    {
      "cell_type": "code",
      "source": [
        "plt.figure(figsize = (10,5))\n",
        "sns.histplot(x='Song_Success', hue = 'explicit',data=df, palette = 'Blues', multiple = 'stack')\n",
        "plt.title('Фиты и ругательства: распределение')\n",
        "plt.xlabel('Хит')\n",
        "plt.ylabel('Частота')\n",
        "plt.grid(color = 'gray', linestyle = '--', linewidth = 0.5);"
      ],
      "metadata": {
        "colab": {
          "base_uri": "https://localhost:8080/",
          "height": 487
        },
        "id": "49saf_hmRMCG",
        "outputId": "02bc36f1-7df8-4cdc-bc86-669264b6df1d"
      },
      "execution_count": 7,
      "outputs": [
        {
          "output_type": "display_data",
          "data": {
            "text/plain": [
              "<Figure size 1000x500 with 1 Axes>"
            ],
            "image/png": "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\n"
          },
          "metadata": {}
        }
      ]
    },
    {
      "cell_type": "markdown",
      "source": [
        "Видно, что большинство хитов написаны с использованием нецензурной лексики."
      ],
      "metadata": {
        "id": "jJSyLVPpSEk1"
      }
    },
    {,
      "metadata": {
        "id": "60tLARI2ZGm6"
      }
    },
    {
      "cell_type": "markdown",
      "source": [
        "## Формулировка гипотез и их проверка"
      ],
      "metadata": {
        "id": "twqWK4H9Z_QV"
      }
    },
    {
      "cell_type": "markdown",
      "source": [
        "**Сформулируем основную и альтернативную гипотезы:**\n",
        "\n",
        "*   Ho: доля хитов среди песен с ругательствами = доля хитов среди песен без ругательств\n",
        "*   H1: доля хитов среди песен с ругательствами >= доля хитов среди песен без ругательств\n",
        "\n",
        "Для проверки гипотезы будем использовать z-тест (правосторонний) для долей."
      ],
      "metadata": {
        "id": "d4VFsPVL9Xcr"
      }
    },
    {
      "cell_type": "code",
      "source": [
        "from statsmodels.stats.proportion import proportions_ztest\n",
        "\n",
        "count =  np.array([hits_explicit, hits_non_explicit])\n",
        "nobs = np.array([n_explicit, n_non_explicit])\n",
        "z_stat, p_value = proportions_ztest(count, nobs, alternative='larger')\n",
        "\n",
        "print(f'Зет статистика: {z_stat}')\n",
        "print(f'Пи вэлью: {p_value}')"
      ],
      "metadata": {
        "colab": {
          "base_uri": "https://localhost:8080/"
        },
        "id": "FkICSd5BTnio",
        "outputId": "6a196c9d-d6c4-4563-b8ce-5025fa03356c"
      },
      "execution_count": 9,
      "outputs": [
        {
          "output_type": "stream",
          "name": "stdout",
          "text": [
            "Зет статистика: 8.673654554196503\n",
            "Пи вэлью: 1.0\n"
          ]
        }
      ]
    },
    {
      "cell_type": "markdown",
      "source": [
        "Пи вэлью очень маленький, меньше любого адекватного уровня значимости. Поэтому мы можем смело отвергнуть H0 и принять альтернативную гипотезу. Таким образом, на\n",
        "статистическом уровне у матерных песен больше шансов стать хитом."
      ],
      "metadata": {
        "id": "3pA5MTJ7J2i-"
      }
    },
    {
      "cell_type": "markdown",
      "source": [
        "<center>\n",
        "<img src='https://www.meme-arsenal.com/memes/21ccb51e078d68c0c9f687857748568c.jpg' height=\"500\">\n",
        "</center>"
      ],
      "metadata": {
        "id": "wlEfpqGEYpE4"
      }
    }
  ]
}
